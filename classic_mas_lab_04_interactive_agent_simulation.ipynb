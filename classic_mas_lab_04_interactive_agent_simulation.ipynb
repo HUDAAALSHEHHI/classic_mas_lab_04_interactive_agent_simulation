{
  "nbformat": 4,
  "nbformat_minor": 0,
  "metadata": {
    "colab": {
      "provenance": [],
      "gpuType": "A100"
    },
    "kernelspec": {
      "name": "python3",
      "display_name": "Python 3"
    },
    "language_info": {
      "name": "python"
    },
    "accelerator": "GPU"
  },
  "cells": [
    {
      "cell_type": "code",
      "execution_count": 1,
      "metadata": {
        "id": "EDPGKVSUIoYT"
      },
      "outputs": [],
      "source": [
        "import random\n",
        "\n",
        "class Agent:\n",
        "    def __init__(self, id):\n",
        "        self.id = id\n",
        "        self.energy = random.randint(5, 15)\n",
        "        self.state = \"neutral\"\n",
        "\n",
        "    def act(self):\n",
        "        change = random.choice([-2, -1, 0, 1, 2])\n",
        "        self.energy += change\n",
        "        if self.energy > 20:\n",
        "            self.state = \"cooperative\"\n",
        "        elif self.energy < 5:\n",
        "            self.state = \"competitive\"\n",
        "        else:\n",
        "            self.state = \"neutral\"\n"
      ]
    },
    {
      "cell_type": "code",
      "source": [
        "class Simulation:\n",
        "    def __init__(self, num_agents):\n",
        "        self.agents = [Agent(i) for i in range(num_agents)]\n",
        "\n",
        "    def step(self):\n",
        "        for agent in self.agents:\n",
        "            agent.act()\n",
        "\n",
        "    def summary(self):\n",
        "        coop = sum(1 for a in self.agents if a.state == \"cooperative\")\n",
        "        comp = sum(1 for a in self.agents if a.state == \"competitive\")\n",
        "        print(f\"Cooperative agents: {coop}, Competitive agents: {comp}\")\n"
      ],
      "metadata": {
        "id": "-CCb0PqlKHbm"
      },
      "execution_count": 2,
      "outputs": []
    },
    {
      "cell_type": "code",
      "source": [
        "sim = Simulation(20)\n",
        "for _ in range(10):\n",
        "    sim.step()\n",
        "    sim.summary()\n"
      ],
      "metadata": {
        "colab": {
          "base_uri": "https://localhost:8080/"
        },
        "id": "3b870GleKNyE",
        "outputId": "260bbd00-26bc-492d-a32c-1389ce3f151e"
      },
      "execution_count": 3,
      "outputs": [
        {
          "output_type": "stream",
          "name": "stdout",
          "text": [
            "Cooperative agents: 0, Competitive agents: 3\n",
            "Cooperative agents: 0, Competitive agents: 2\n",
            "Cooperative agents: 0, Competitive agents: 1\n",
            "Cooperative agents: 0, Competitive agents: 2\n",
            "Cooperative agents: 0, Competitive agents: 1\n",
            "Cooperative agents: 0, Competitive agents: 3\n",
            "Cooperative agents: 0, Competitive agents: 2\n",
            "Cooperative agents: 0, Competitive agents: 1\n",
            "Cooperative agents: 0, Competitive agents: 1\n",
            "Cooperative agents: 0, Competitive agents: 3\n"
          ]
        }
      ]
    },
    {
      "cell_type": "code",
      "source": [
        "states = [a.state for a in sim.agents]\n",
        "print(\"Final distribution of agent states:\", {s: states.count(s) for s in set(states)})\n"
      ],
      "metadata": {
        "colab": {
          "base_uri": "https://localhost:8080/"
        },
        "id": "b8i0_Xd1KQDf",
        "outputId": "9fc0c5ef-5ead-4c77-f7c3-c85f8078c9f0"
      },
      "execution_count": 4,
      "outputs": [
        {
          "output_type": "stream",
          "name": "stdout",
          "text": [
            "Final distribution of agent states: {'neutral': 17, 'competitive': 3}\n"
          ]
        }
      ]
    },
    {
      "cell_type": "code",
      "source": [],
      "metadata": {
        "id": "YdZmZjxLKUqs"
      },
      "execution_count": null,
      "outputs": []
    }
  ]
}